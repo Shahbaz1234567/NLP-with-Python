{
 "cells": [
  {
   "cell_type": "code",
   "execution_count": 1,
   "id": "5d1c3e37",
   "metadata": {},
   "outputs": [],
   "source": [
    "import re\n",
    "import nltk\n",
    "import numpy as np\n",
    "from sklearn.model_selection import train_test_split\n",
    "from sklearn.feature_extraction.text import CountVectorizer\n",
    "from sklearn.naive_bayes import MultinomialNB\n",
    "from sklearn.metrics import accuracy_score,confusion_matrix,classification_report"
   ]
  },
  {
   "cell_type": "code",
   "execution_count": 2,
   "id": "94e56e84",
   "metadata": {},
   "outputs": [
    {
     "name": "stdout",
     "output_type": "stream",
     "text": [
      "['hello', 'world', 'python', 'spell', 'language', 'model', 'check']\n",
      "\n",
      "['helo', 'worl', 'pythoon', 'spl', 'langage', 'moel', 'chek']\n"
     ]
    }
   ],
   "source": [
    "#sample dataset of correctly spelled and misspelled words\n",
    "correct_words=['hello','world','python','spell','language','model','check']\n",
    "misspelled_words=['helo','worl','pythoon','spl','langage','moel','chek']\n",
    "print(correct_words)\n",
    "print()\n",
    "print(misspelled_words)"
   ]
  },
  {
   "cell_type": "code",
   "execution_count": 3,
   "id": "870d6f84",
   "metadata": {},
   "outputs": [
    {
     "name": "stdout",
     "output_type": "stream",
     "text": [
      "['hello', 'world', 'python', 'spell', 'language', 'model', 'check', 'helo', 'worl', 'pythoon', 'spl', 'langage', 'moel', 'chek']\n"
     ]
    }
   ],
   "source": [
    "#combile correct & misspelled into a single dataset\n",
    "all_words=correct_words+misspelled_words\n",
    "print(all_words)"
   ]
  },
  {
   "cell_type": "code",
   "execution_count": 4,
   "id": "893488a6",
   "metadata": {},
   "outputs": [
    {
     "data": {
      "text/plain": [
       "[1, 1, 1, 1, 1, 1, 1, 0, 0, 0, 0, 0, 0, 0]"
      ]
     },
     "execution_count": 4,
     "metadata": {},
     "output_type": "execute_result"
    }
   ],
   "source": [
    "labels=[1] *len(correct_words)+[0] *len(misspelled_words)\n",
    "labels"
   ]
  },
  {
   "cell_type": "code",
   "execution_count": 5,
   "id": "a3f2c232",
   "metadata": {},
   "outputs": [
    {
     "name": "stdout",
     "output_type": "stream",
     "text": [
      "['hello', 'world', 'python', 'spell', 'language', 'model', 'check', 'helo', 'worl', 'pythoon', 'spl', 'langage', 'moel', 'chek']\n"
     ]
    }
   ],
   "source": [
    "#Preprocess the data\n",
    "def preprocess_text(text):\n",
    "    text=re.sub(r'\\b\\w\\b','',text) #remove single characters\n",
    "    return text.lower()\n",
    "\n",
    "all_words=[preprocess_text(word) for word in all_words]\n",
    "print(all_words)"
   ]
  },
  {
   "cell_type": "code",
   "execution_count": 8,
   "id": "fbc06fb7",
   "metadata": {},
   "outputs": [
    {
     "data": {
      "text/plain": [
       "(['pythoon',\n",
       "  'check',\n",
       "  'chek',\n",
       "  'python',\n",
       "  'hello',\n",
       "  'moel',\n",
       "  'worl',\n",
       "  'world',\n",
       "  'model',\n",
       "  'helo',\n",
       "  'spl'],\n",
       " [0, 1, 0, 1, 1, 0, 0, 1, 1, 0, 0])"
      ]
     },
     "execution_count": 8,
     "metadata": {},
     "output_type": "execute_result"
    }
   ],
   "source": [
    "#Split the dataset into train & test\n",
    "xtrain,xtest,ytrain,ytest=train_test_split(all_words,labels,test_size=0.2,random_state=4)\n",
    "xtrain,ytrain"
   ]
  },
  {
   "cell_type": "code",
   "execution_count": 9,
   "id": "680e9c49",
   "metadata": {},
   "outputs": [
    {
     "data": {
      "text/plain": [
       "(['language', 'spell', 'langage'], [1, 1, 0])"
      ]
     },
     "execution_count": 9,
     "metadata": {},
     "output_type": "execute_result"
    }
   ],
   "source": [
    "xtest,ytest"
   ]
  },
  {
   "cell_type": "code",
   "execution_count": 10,
   "id": "b04ca3ae",
   "metadata": {},
   "outputs": [
    {
     "name": "stdout",
     "output_type": "stream",
     "text": [
      "  (0, 7)\t1\n",
      "  (1, 0)\t1\n",
      "  (2, 1)\t1\n",
      "  (3, 6)\t1\n",
      "  (4, 2)\t1\n",
      "  (5, 5)\t1\n",
      "  (6, 9)\t1\n",
      "  (7, 10)\t1\n",
      "  (8, 4)\t1\n",
      "  (9, 3)\t1\n",
      "  (10, 8)\t1\n"
     ]
    }
   ],
   "source": [
    "#Vectorize the words with BOW repr\n",
    "cv=CountVectorizer()\n",
    "xtrain_cv=cv.fit_transform(xtrain)\n",
    "xtest_cv=cv.transform(xtest)\n",
    "print(xtrain_cv)"
   ]
  },
  {
   "cell_type": "code",
   "execution_count": 11,
   "id": "dc1df150",
   "metadata": {},
   "outputs": [
    {
     "name": "stdout",
     "output_type": "stream",
     "text": [
      "\n"
     ]
    }
   ],
   "source": [
    "print(xtest_cv)"
   ]
  },
  {
   "cell_type": "code",
   "execution_count": 12,
   "id": "eb2191c2",
   "metadata": {},
   "outputs": [
    {
     "name": "stdout",
     "output_type": "stream",
     "text": [
      "Accuracy: 33.33%\n"
     ]
    }
   ],
   "source": [
    "#Classifier model with Naive Bayes Algorithm\n",
    "clf=MultinomialNB()\n",
    "clf.fit(xtrain_cv,ytrain)\n",
    "#test\n",
    "ypred=clf.predict(xtest_cv)\n",
    "#Evaluate\n",
    "accuracy=accuracy_score(ytest,ypred)\n",
    "print(f\"Accuracy: {accuracy*100:.2f}%\")"
   ]
  },
  {
   "cell_type": "code",
   "execution_count": 13,
   "id": "4aca528f",
   "metadata": {},
   "outputs": [],
   "source": [
    "#Test the spell check\n",
    "def spell_check(test_word):\n",
    "    test_word_vector=cv.transform([preprocess_text(test_word)])\n",
    "    prediction=clf.predict(test_word_vector)\n",
    "\n",
    "    if prediction[0]==1:\n",
    "        print(f\"{test_word} is spelled correctly.\")\n",
    "    else:\n",
    "        print(f\"{test_word} is likely misspelled \")"
   ]
  },
  {
   "cell_type": "code",
   "execution_count": 14,
   "id": "5bfd80ca",
   "metadata": {},
   "outputs": [
    {
     "name": "stdout",
     "output_type": "stream",
     "text": [
      "helo is likely misspelled \n"
     ]
    }
   ],
   "source": [
    "spell_check('helo')"
   ]
  },
  {
   "cell_type": "code",
   "execution_count": 15,
   "id": "87bf43bb",
   "metadata": {},
   "outputs": [
    {
     "name": "stdout",
     "output_type": "stream",
     "text": [
      "python is spelled correctly.\n"
     ]
    }
   ],
   "source": [
    "spell_check('python')"
   ]
  },
  {
   "cell_type": "code",
   "execution_count": null,
   "id": "d1f98691",
   "metadata": {},
   "outputs": [],
   "source": []
  }
 ],
 "metadata": {
  "kernelspec": {
   "display_name": "Python 3 (ipykernel)",
   "language": "python",
   "name": "python3"
  },
  "language_info": {
   "codemirror_mode": {
    "name": "ipython",
    "version": 3
   },
   "file_extension": ".py",
   "mimetype": "text/x-python",
   "name": "python",
   "nbconvert_exporter": "python",
   "pygments_lexer": "ipython3",
   "version": "3.11.5"
  }
 },
 "nbformat": 4,
 "nbformat_minor": 5
}
