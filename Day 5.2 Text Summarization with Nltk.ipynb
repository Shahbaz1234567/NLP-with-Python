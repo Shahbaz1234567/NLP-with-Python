{
 "cells": [
  {
   "cell_type": "code",
   "execution_count": 1,
   "id": "fbe51a71",
   "metadata": {},
   "outputs": [
    {
     "name": "stderr",
     "output_type": "stream",
     "text": [
      "[nltk_data] Error loading punkt: <urlopen error [WinError 10060] A\n",
      "[nltk_data]     connection attempt failed because the connected party\n",
      "[nltk_data]     did not properly respond after a period of time, or\n",
      "[nltk_data]     established connection failed because connected host\n",
      "[nltk_data]     has failed to respond>\n"
     ]
    }
   ],
   "source": [
    "import nltk\n",
    "nltk.download('punkt')\n",
    "\n",
    "from nltk.tokenize import sent_tokenize,word_tokenize\n",
    "from nltk.corpus import stopwords\n",
    "from nltk.probability import FreqDist"
   ]
  },
  {
   "cell_type": "code",
   "execution_count": 2,
   "id": "484df393",
   "metadata": {},
   "outputs": [],
   "source": [
    "def text_summarization(text,num_sentences=3):\n",
    "    sentences=sent_tokenize(text)\n",
    "    words=word_tokenize(text.lower())\n",
    "    stop_words=set(stopwords.words('english'))\n",
    "    words=[word for word in words if word.isalpha() and word not in stop_words]\n",
    "\n",
    "    freq_dist=FreqDist(words)\n",
    "    ranking={}\n",
    "    for i,sentence in enumerate(sentences):\n",
    "        sentence_words=word_tokenize(sentence.lower())\n",
    "        sentence_score=0\n",
    "\n",
    "        for word in sentence_words:\n",
    "            if word in freq_dist:\n",
    "                sentence_score+=freq_dist[word]\n",
    "        ranking[i]=sentence_score\n",
    "\n",
    "        top_sentences=sorted(ranking,key=ranking.get,reverse=True)[:num_sentences]\n",
    "        summary=' '.join(sentences[j] for j in sorted(top_sentences))\n",
    "\n",
    "        return summary"
   ]
  },
  {
   "cell_type": "code",
   "execution_count": 8,
   "id": "62c0fc01",
   "metadata": {},
   "outputs": [],
   "source": [
    "text=\"\"\"\n",
    "Playing ludo on his phone, bathing in natural water, the taste of puffed rice a\n",
    "nd cardamom seeds — the long hours spent inside the Uttarkashi tunnel have left an\n",
    "indelible mark on 32-year-old Chamra Oraon, a resident of Jharkhand’s Khunti distr\n",
    "ict, who was rescued on Tuesday night. Speaking to The Indian Express while being\n",
    "taken to the hospital, Oraon said the smell of fresh air felt like a new lease of\n",
    "life. The credit for saving him, he said, goes to the rescuers who worked tireless\n",
    "ly for 17 days, and to the almighty.\\n\\n“Johar (greetings)! Hum achhe hain (I am g\n",
    "ood). We believed in God and that gave us strength. We also believed that since 41\n",
    "people are trapped, somebody would rescue us. I can’t wait to speak to my wife,” s\n",
    "aid Oraon, who has three children waiting for him in Khunti.\\n\\nOraon said he earn\n",
    "s Rs 18,000 a month, and only “time will tell” whether or not he returns. Fifteen\n",
    "workers from the state — the largest contingent — were among the 41 trapped men.\\n\n",
    "\\n\\nOraon recalled that he was working in the early hours of November 12 when he h\n",
    "eard a loud thud and saw debris falling. “I ran for my life but got stuck on the w\n",
    "rong side. As it became clear we would be there for a long time, we grew restless,\n",
    "hungry. But we prayed silently for help. I never lost hope,” he said.\\n\\nOraon sai\n",
    "d that around 24 hours later, the authorities sent puffed rice and cardamom seeds.\n",
    "“When we ate the first morsel, we felt someone above had reached out to us; we wer\n",
    "e overjoyed. We were assured we would be rescued, but needed to pass the time. So\n",
    "we immersed ourselves in ludo on the phone, which we could charge with the supply\n",
    "provided to us, though we couldn’t call anyone since there was no network. We spok\n",
    "e among ourselves and got to know each other,” he said.\n",
    "\"\"\""
   ]
  },
  {
   "cell_type": "code",
   "execution_count": 9,
   "id": "354a758b",
   "metadata": {},
   "outputs": [
    {
     "data": {
      "text/plain": [
       "'\\nPlaying ludo on his phone, bathing in natural water, the taste of puffed rice a\\nnd cardamom seeds — the long hours spent inside the Uttarkashi tunnel have left an\\nindelible mark on 32-year-old Chamra Oraon, a resident of Jharkhand’s Khunti distr\\nict, who was rescued on Tuesday night. Speaking to The Indian Express while being\\ntaken to the hospital, Oraon said the smell of fresh air felt like a new lease of\\nlife. The credit for saving him, he said, goes to the rescuers who worked tireless\\nly for 17 days, and to the almighty.\\n\\n“Johar (greetings)! Hum achhe hain (I am g\\nood). We believed in God and that gave us strength. We also believed that since 41\\npeople are trapped, somebody would rescue us. I can’t wait to speak to my wife,” s\\naid Oraon, who has three children waiting for him in Khunti.\\n\\nOraon said he earn\\ns Rs 18,000 a month, and only “time will tell” whether or not he returns. Fifteen\\nworkers from the state — the largest contingent — were among the 41 trapped men.\\n\\n\\n\\nOraon recalled that he was working in the early hours of November 12 when he h\\neard a loud thud and saw debris falling. “I ran for my life but got stuck on the w\\nrong side. As it became clear we would be there for a long time, we grew restless,\\nhungry. But we prayed silently for help. I never lost hope,” he said.\\n\\nOraon sai\\nd that around 24 hours later, the authorities sent puffed rice and cardamom seeds.\\n“When we ate the first morsel, we felt someone above had reached out to us; we wer\\ne overjoyed. We were assured we would be rescued, but needed to pass the time. So\\nwe immersed ourselves in ludo on the phone, which we could charge with the supply\\nprovided to us, though we couldn’t call anyone since there was no network. We spok\\ne among ourselves and got to know each other,” he said.\\n'"
      ]
     },
     "execution_count": 9,
     "metadata": {},
     "output_type": "execute_result"
    }
   ],
   "source": [
    "text"
   ]
  },
  {
   "cell_type": "code",
   "execution_count": 10,
   "id": "91243725",
   "metadata": {},
   "outputs": [
    {
     "name": "stdout",
     "output_type": "stream",
     "text": [
      "\n",
      "Playing ludo on his phone, bathing in natural water, the taste of puffed rice a\n",
      "nd cardamom seeds — the long hours spent inside the Uttarkashi tunnel have left an\n",
      "indelible mark on 32-year-old Chamra Oraon, a resident of Jharkhand’s Khunti distr\n",
      "ict, who was rescued on Tuesday night.\n"
     ]
    }
   ],
   "source": [
    "summary=text_summarization(text)\n",
    "print(summary)"
   ]
  },
  {
   "cell_type": "code",
   "execution_count": 11,
   "id": "201fb9bf",
   "metadata": {},
   "outputs": [],
   "source": [
    "text1=\"\"\" 'In the southeast Bay of Bengal, squally weather with wind speeds reaching 40-50 k\n",
    "mph gusting to 60 kmph is forecasted on November 30. This is expected to increase\n",
    "to 50-60 kmph gusting to 70 kmph on December 1, with gale wind speeds reaching 60-\n",
    "70 kmph gusting to 80 kmph on December 2.\\n\\nSqually wind speeds ranging from 40-5\n",
    "0 kmph gusting to 60 kmph are expected over the southwest Bay of Bengal from the m\n",
    "orning of December 1, increasing to Gale Wind speeds of 60-70 kmph gusting to 80 k\n",
    "mph on December 2 morning. In the central Bay of Bengal, squally wind speeds reach\n",
    "ing 40-50 kmph gusting to 60 kmph are likely on December 1, intensifying to 50-60\n",
    "kmph gusting to 70 kmph on December 2.\\n\\n\\nFishermen have been advised not to ven\n",
    "ture into the South Andaman Sea on November 29 and 30 and avoid the southeast Bay\n",
    "of Bengal from November 30 to December 2. The IMD also urged them to stay clear of\n",
    "southwest Bay of Bengal on November 30 and December 2 and refrain from venturing i\n",
    "nto central Bay of Bengal from December 1 morning onwards.\\n\\nThe Odisha governmen\n",
    "t, meanwhile, put seven coastal districts of the state on alert amid the low-press\n",
    "ure area over the South Andaman Sea. In a letter to the collectors of Balasore, Bh\n",
    "adrak, Kendrapara, Jagatsinghpur, Puri, Khurda and Ganjam districts, Special Relie\n",
    "f Commissioner Satyabrata Sahoo said that a low-pressure area over the South Andam\n",
    "an Sea is likely to intensify into a depression and later into a cyclonic storm.' \"\"\""
   ]
  },
  {
   "cell_type": "code",
   "execution_count": 12,
   "id": "f262d369",
   "metadata": {},
   "outputs": [
    {
     "data": {
      "text/plain": [
       "\" 'In the southeast Bay of Bengal, squally weather with wind speeds reaching 40-50 k\\nmph gusting to 60 kmph is forecasted on November 30. This is expected to increase\\nto 50-60 kmph gusting to 70 kmph on December 1, with gale wind speeds reaching 60-\\n70 kmph gusting to 80 kmph on December 2.\\n\\nSqually wind speeds ranging from 40-5\\n0 kmph gusting to 60 kmph are expected over the southwest Bay of Bengal from the m\\norning of December 1, increasing to Gale Wind speeds of 60-70 kmph gusting to 80 k\\nmph on December 2 morning. In the central Bay of Bengal, squally wind speeds reach\\ning 40-50 kmph gusting to 60 kmph are likely on December 1, intensifying to 50-60\\nkmph gusting to 70 kmph on December 2.\\n\\n\\nFishermen have been advised not to ven\\nture into the South Andaman Sea on November 29 and 30 and avoid the southeast Bay\\nof Bengal from November 30 to December 2. The IMD also urged them to stay clear of\\nsouthwest Bay of Bengal on November 30 and December 2 and refrain from venturing i\\nnto central Bay of Bengal from December 1 morning onwards.\\n\\nThe Odisha governmen\\nt, meanwhile, put seven coastal districts of the state on alert amid the low-press\\nure area over the South Andaman Sea. In a letter to the collectors of Balasore, Bh\\nadrak, Kendrapara, Jagatsinghpur, Puri, Khurda and Ganjam districts, Special Relie\\nf Commissioner Satyabrata Sahoo said that a low-pressure area over the South Andam\\nan Sea is likely to intensify into a depression and later into a cyclonic storm.' \""
      ]
     },
     "execution_count": 12,
     "metadata": {},
     "output_type": "execute_result"
    }
   ],
   "source": [
    "text1"
   ]
  },
  {
   "cell_type": "code",
   "execution_count": 13,
   "id": "9992a20d",
   "metadata": {},
   "outputs": [
    {
     "data": {
      "text/plain": [
       "\" 'In the southeast Bay of Bengal, squally weather with wind speeds reaching 40-50 k\\nmph gusting to 60 kmph is forecasted on November 30.\""
      ]
     },
     "execution_count": 13,
     "metadata": {},
     "output_type": "execute_result"
    }
   ],
   "source": [
    "text_summarization(text1)"
   ]
  },
  {
   "cell_type": "code",
   "execution_count": null,
   "id": "4ecafe6b",
   "metadata": {},
   "outputs": [],
   "source": []
  }
 ],
 "metadata": {
  "kernelspec": {
   "display_name": "Python 3 (ipykernel)",
   "language": "python",
   "name": "python3"
  },
  "language_info": {
   "codemirror_mode": {
    "name": "ipython",
    "version": 3
   },
   "file_extension": ".py",
   "mimetype": "text/x-python",
   "name": "python",
   "nbconvert_exporter": "python",
   "pygments_lexer": "ipython3",
   "version": "3.11.5"
  }
 },
 "nbformat": 4,
 "nbformat_minor": 5
}
