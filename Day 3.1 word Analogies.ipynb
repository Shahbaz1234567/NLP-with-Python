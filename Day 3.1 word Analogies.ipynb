{
 "cells": [
  {
   "cell_type": "code",
   "execution_count": 4,
   "id": "56a0475f",
   "metadata": {},
   "outputs": [],
   "source": [
    "import warnings\n",
    "warnings.filterwarnings('ignore')\n",
    "\n",
    "from nltk.tokenize import sent_tokenize,word_tokenize\n",
    "import gensim\n",
    "\n",
    "from gensim.models import Word2Vec"
   ]
  },
  {
   "cell_type": "code",
   "execution_count": 6,
   "id": "60d234c3",
   "metadata": {},
   "outputs": [],
   "source": [
    "text=open('word_analogy.txt','r')\n",
    "s=text.read()"
   ]
  },
  {
   "cell_type": "code",
   "execution_count": 7,
   "id": "ba86c673",
   "metadata": {},
   "outputs": [],
   "source": [
    "f=s.replace('\\n',\" \")"
   ]
  },
  {
   "cell_type": "code",
   "execution_count": 9,
   "id": "79da450f",
   "metadata": {},
   "outputs": [],
   "source": [
    "data=[]"
   ]
  },
  {
   "cell_type": "code",
   "execution_count": 15,
   "id": "e7f795d7",
   "metadata": {},
   "outputs": [],
   "source": [
    "#Iterate through each sentence in the file\n",
    "for i in sent_tokenize(f):\n",
    "    temp=[]\n",
    "    \n",
    "    # tokenize the sentence into words\n",
    "    for j in word_tokenize(i):\n",
    "        temp.append(j.lower())\n",
    "        \n",
    "    data.append(temp)    "
   ]
  },
  {
   "cell_type": "code",
   "execution_count": 16,
   "id": "9ac8be33",
   "metadata": {},
   "outputs": [
    {
     "data": {
      "text/plain": [
       "2186"
      ]
     },
     "execution_count": 16,
     "metadata": {},
     "output_type": "execute_result"
    }
   ],
   "source": [
    "len(data)"
   ]
  },
  {
   "cell_type": "code",
   "execution_count": 17,
   "id": "deed3d9c",
   "metadata": {},
   "outputs": [],
   "source": [
    "model_1=gensim.models.Word2Vec(data,min_count=1,vector_size=100,window=5)"
   ]
  },
  {
   "cell_type": "code",
   "execution_count": 18,
   "id": "af35c16b",
   "metadata": {},
   "outputs": [
    {
     "name": "stdout",
     "output_type": "stream",
     "text": [
      "Cosine similarity b/w \"Alice\" and 'Wonderland' - CBOW: 0.8972961\n"
     ]
    }
   ],
   "source": [
    "print('Cosine similarity b/w \"Alice\" ' + \"and 'Wonderland' - CBOW:\",model_1.wv.similarity('alice','wonderland'))"
   ]
  },
  {
   "cell_type": "code",
   "execution_count": 19,
   "id": "19c8ce1f",
   "metadata": {},
   "outputs": [
    {
     "data": {
      "text/plain": [
       "-0.1531507"
      ]
     },
     "execution_count": 19,
     "metadata": {},
     "output_type": "execute_result"
    }
   ],
   "source": [
    "model_1.wv.similarity('alice','machines')"
   ]
  },
  {
   "cell_type": "code",
   "execution_count": 20,
   "id": "c4158713",
   "metadata": {},
   "outputs": [
    {
     "data": {
      "text/plain": [
       "[('be', 0.9218806624412537),\n",
       " ('before', 0.9218223690986633),\n",
       " ('should', 0.9213852286338806),\n",
       " ('this', 0.9211856126785278),\n",
       " ('by', 0.9209421277046204),\n",
       " ('for', 0.9205260276794434),\n",
       " ('or', 0.9203940629959106),\n",
       " ('about', 0.9202322959899902),\n",
       " ('in', 0.9200894832611084),\n",
       " ('of', 0.9200214147567749)]"
      ]
     },
     "execution_count": 20,
     "metadata": {},
     "output_type": "execute_result"
    }
   ],
   "source": [
    "model_1.wv.similar_by_word('play')"
   ]
  },
  {
   "cell_type": "code",
   "execution_count": 21,
   "id": "7ecb392e",
   "metadata": {},
   "outputs": [],
   "source": [
    "model_2=gensim.models.Word2Vec(data,min_count=1,vector_size=100,window=5,sg=1)"
   ]
  },
  {
   "cell_type": "code",
   "execution_count": 22,
   "id": "4950372c",
   "metadata": {},
   "outputs": [
    {
     "name": "stdout",
     "output_type": "stream",
     "text": [
      "Cosine similarity b/w \"Alice\" and 'Wonderland' - CBOW: 0.95141196\n"
     ]
    }
   ],
   "source": [
    "print('Cosine similarity b/w \"Alice\" ' + \"and 'Wonderland' - CBOW:\",model_2.wv.similarity('alice','wonderland'))"
   ]
  },
  {
   "cell_type": "code",
   "execution_count": 23,
   "id": "ed1e2ebb",
   "metadata": {},
   "outputs": [
    {
     "name": "stdout",
     "output_type": "stream",
     "text": [
      "Cosine similarity b/w \"Alice\" and 'Wonderland' - CBOW: 0.9355141\n"
     ]
    }
   ],
   "source": [
    "model_3=gensim.models.Word2Vec(data,min_count=1,vector_size=100,window=5,sg=2)\n",
    "print('Cosine similarity b/w \"Alice\" ' + \"and 'Wonderland' - CBOW:\",model_3.wv.similarity('alice','wonderland'))"
   ]
  },
  {
   "cell_type": "code",
   "execution_count": null,
   "id": "3fd2bd41",
   "metadata": {},
   "outputs": [],
   "source": []
  }
 ],
 "metadata": {
  "kernelspec": {
   "display_name": "Python 3 (ipykernel)",
   "language": "python",
   "name": "python3"
  },
  "language_info": {
   "codemirror_mode": {
    "name": "ipython",
    "version": 3
   },
   "file_extension": ".py",
   "mimetype": "text/x-python",
   "name": "python",
   "nbconvert_exporter": "python",
   "pygments_lexer": "ipython3",
   "version": "3.11.5"
  }
 },
 "nbformat": 4,
 "nbformat_minor": 5
}
