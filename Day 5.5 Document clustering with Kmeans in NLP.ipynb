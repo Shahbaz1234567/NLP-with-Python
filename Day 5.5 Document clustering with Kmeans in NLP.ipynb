{
 "cells": [
  {
   "cell_type": "code",
   "execution_count": 2,
   "id": "333cb9bc",
   "metadata": {},
   "outputs": [
    {
     "name": "stderr",
     "output_type": "stream",
     "text": [
      "[nltk_data] Downloading package wordnet to\n",
      "[nltk_data]     C:\\Users\\shabaz\\AppData\\Roaming\\nltk_data...\n",
      "[nltk_data]   Package wordnet is already up-to-date!\n"
     ]
    }
   ],
   "source": [
    "import nltk\n",
    "from nltk.corpus import stopwords\n",
    "from string import punctuation\n",
    "from nltk.stem import wordnet\n",
    "from nltk.stem import WordNetLemmatizer\n",
    "nltk.download('wordnet')\n",
    "\n",
    "#Tokenize Function\n",
    "def Tokenize(string):\n",
    "    tokens=nltk.tokenize.word_tokenize(string)\n",
    "    return \" \".join(tokens)\n",
    "\n",
    "#RemoveStopWordsFunction\n",
    "def RemoveStopWords(string):\n",
    "    #Removing Punctuations\n",
    "    for each in punctuation:\n",
    "        string=string.replace(each,\"\")\n",
    " \n",
    "    #Removing Stopwords\n",
    "    english_stopwords=stopwords.words('english')\n",
    "    stopwords_removed_tokens=[]\n",
    "    words=string.split(\" \")\n",
    " \n",
    "    for each in words:\n",
    "        if each not in english_stopwords:\n",
    "            stopwords_removed_tokens.append(each)\n",
    "    return \" \".join(stopwords_removed_tokens)\n",
    "\n",
    "#LemmatizeFunction\n",
    "def Lemmatize(string):\n",
    "    word_lem=WordNetLemmatizer()\n",
    "    words=string.split()\n",
    "    lemmatizeWords=[]\n",
    "    for each in words:\n",
    "        try:\n",
    "            lemmatizeWords.append(word_lem.lemmatize(each))\n",
    "        except:\n",
    "            continue\n",
    "    return \" \".join(lemmatizeWords)\n",
    "\n",
    "def Refine(string):\n",
    "    return Lemmatize(RemoveStopWords(Tokenize(string)))"
   ]
  },
  {
   "cell_type": "code",
   "execution_count": 3,
   "id": "704671aa",
   "metadata": {},
   "outputs": [],
   "source": [
    "#Read all the files from all subfolders and store their summaries in a single CSV f\n",
    "#Name CSV File as: “BBCNewsArticles.csv”\n",
    "\n",
    "import os\n",
    "data=[]\n",
    "for path,folders,files in os.walk('BBC News Articles'):\n",
    "    for each in files:\n",
    "        if each.endswith('txt'):\n",
    "            f=open(path+\"//\"+each,'r')\n",
    "            content=f.read()\n",
    "            data.append(content)\n",
    "            f.close()\n",
    " \n",
    "import pandas as pd\n",
    "df=pd.DataFrame(data,columns=['Article'])\n",
    "df.to_csv('BBCNewsArticles.csv',index=False)"
   ]
  },
  {
   "cell_type": "code",
   "execution_count": 4,
   "id": "9ebda618",
   "metadata": {},
   "outputs": [],
   "source": [
    "#Randomly arrange the data \n",
    "from sklearn.utils import shuffle\n",
    "df = shuffle(df)"
   ]
  },
  {
   "cell_type": "code",
   "execution_count": 5,
   "id": "17eca35b",
   "metadata": {},
   "outputs": [],
   "source": [
    "#Preprocess the data\n",
    "#Set system encoding to utf-8\n",
    "#import sys \n",
    "#reload(sys) \n",
    "#sys.setdefaultencoding('utf8')\n",
    "#Use the refine module\n",
    "\n",
    "df['Refined-Article']=list(map(lambda x: Refine(x),df['Article']))"
   ]
  },
  {
   "cell_type": "code",
   "execution_count": 7,
   "id": "3d459d73",
   "metadata": {},
   "outputs": [
    {
     "ename": "ModuleNotFoundError",
     "evalue": "No module named 'Vectorization'",
     "output_type": "error",
     "traceback": [
      "\u001b[1;31m---------------------------------------------------------------------------\u001b[0m",
      "\u001b[1;31mModuleNotFoundError\u001b[0m                       Traceback (most recent call last)",
      "Cell \u001b[1;32mIn[7], line 4\u001b[0m\n\u001b[0;32m      1\u001b[0m \u001b[38;5;66;03m#On the preprocessed text, perform Vectorization using 3 types of vectors.\u001b[39;00m\n\u001b[0;32m      2\u001b[0m \u001b[38;5;66;03m#use previous Vectorization file made in earlier module\u001b[39;00m\n\u001b[1;32m----> 4\u001b[0m \u001b[38;5;28;01mfrom\u001b[39;00m \u001b[38;5;21;01mVectorization\u001b[39;00m \u001b[38;5;28;01mimport\u001b[39;00m\u001b[38;5;241m*\u001b[39m\n\u001b[0;32m      6\u001b[0m \u001b[38;5;66;03m#“PresenceAbsenceVector”: Converts Article to vectors using Presence and Absence of\u001b[39;00m\n\u001b[0;32m      7\u001b[0m df[\u001b[38;5;124m'\u001b[39m\u001b[38;5;124mRefined-Article-Presence-Absence-Vectorized\u001b[39m\u001b[38;5;124m'\u001b[39m]\u001b[38;5;241m=\u001b[39mPresenceAbsenceVectorization(df[\u001b[38;5;124m'\u001b[39m\u001b[38;5;124mRefined-Article-Presence-Absence-Vectorized\u001b[39m\u001b[38;5;124m'\u001b[39m])\n",
      "\u001b[1;31mModuleNotFoundError\u001b[0m: No module named 'Vectorization'"
     ]
    }
   ],
   "source": [
    "#On the preprocessed text, perform Vectorization using 3 types of vectors.\n",
    "#use previous Vectorization file made in earlier module\n",
    "\n",
    "from Vectorization import*\n",
    "\n",
    "#“PresenceAbsenceVector”: Converts Article to vectors using Presence and Absence of\n",
    "df['Refined-Article-Presence-Absence-Vectorized']=PresenceAbsenceVectorization(df['Refined-Article-Presence-Absence-Vectorized'])"
   ]
  },
  {
   "cell_type": "code",
   "execution_count": null,
   "id": "8a52371d",
   "metadata": {},
   "outputs": [],
   "source": []
  }
 ],
 "metadata": {
  "kernelspec": {
   "display_name": "Python 3 (ipykernel)",
   "language": "python",
   "name": "python3"
  },
  "language_info": {
   "codemirror_mode": {
    "name": "ipython",
    "version": 3
   },
   "file_extension": ".py",
   "mimetype": "text/x-python",
   "name": "python",
   "nbconvert_exporter": "python",
   "pygments_lexer": "ipython3",
   "version": "3.11.5"
  }
 },
 "nbformat": 4,
 "nbformat_minor": 5
}
