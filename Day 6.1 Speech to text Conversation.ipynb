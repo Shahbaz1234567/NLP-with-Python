{
 "cells": [
  {
   "cell_type": "code",
   "execution_count": 1,
   "id": "d662e4fb",
   "metadata": {},
   "outputs": [],
   "source": [
    "import speech_recognition as sr\n"
   ]
  },
  {
   "cell_type": "code",
   "execution_count": 2,
   "id": "eba736e1",
   "metadata": {},
   "outputs": [],
   "source": [
    "recog=sr.Recognizer()"
   ]
  },
  {
   "cell_type": "code",
   "execution_count": 3,
   "id": "62d07960",
   "metadata": {},
   "outputs": [],
   "source": [
    "?recog.record"
   ]
  },
  {
   "cell_type": "code",
   "execution_count": 4,
   "id": "411b540d",
   "metadata": {},
   "outputs": [
    {
     "data": {
      "text/plain": [
       "['__class__',\n",
       " '__delattr__',\n",
       " '__dict__',\n",
       " '__dir__',\n",
       " '__doc__',\n",
       " '__enter__',\n",
       " '__eq__',\n",
       " '__exit__',\n",
       " '__format__',\n",
       " '__ge__',\n",
       " '__getattribute__',\n",
       " '__getstate__',\n",
       " '__gt__',\n",
       " '__hash__',\n",
       " '__init__',\n",
       " '__init_subclass__',\n",
       " '__le__',\n",
       " '__lt__',\n",
       " '__module__',\n",
       " '__ne__',\n",
       " '__new__',\n",
       " '__reduce__',\n",
       " '__reduce_ex__',\n",
       " '__repr__',\n",
       " '__setattr__',\n",
       " '__sizeof__',\n",
       " '__str__',\n",
       " '__subclasshook__',\n",
       " '__weakref__',\n",
       " 'adjust_for_ambient_noise',\n",
       " 'dynamic_energy_adjustment_damping',\n",
       " 'dynamic_energy_ratio',\n",
       " 'dynamic_energy_threshold',\n",
       " 'energy_threshold',\n",
       " 'lasttfgraph',\n",
       " 'listen',\n",
       " 'listen_in_background',\n",
       " 'non_speaking_duration',\n",
       " 'operation_timeout',\n",
       " 'pause_threshold',\n",
       " 'phrase_threshold',\n",
       " 'recognize_amazon',\n",
       " 'recognize_api',\n",
       " 'recognize_assemblyai',\n",
       " 'recognize_azure',\n",
       " 'recognize_bing',\n",
       " 'recognize_google',\n",
       " 'recognize_google_cloud',\n",
       " 'recognize_houndify',\n",
       " 'recognize_ibm',\n",
       " 'recognize_lex',\n",
       " 'recognize_sphinx',\n",
       " 'recognize_tensorflow',\n",
       " 'recognize_vosk',\n",
       " 'recognize_whisper',\n",
       " 'recognize_whisper_api',\n",
       " 'recognize_wit',\n",
       " 'record',\n",
       " 'snowboy_wait_for_hot_word',\n",
       " 'tflabels']"
      ]
     },
     "execution_count": 4,
     "metadata": {},
     "output_type": "execute_result"
    }
   ],
   "source": [
    "dir(recog)"
   ]
  },
  {
   "cell_type": "markdown",
   "id": "815f8090",
   "metadata": {},
   "source": [
    "# loud the audio file"
   ]
  },
  {
   "cell_type": "code",
   "execution_count": 15,
   "id": "706a751b",
   "metadata": {},
   "outputs": [
    {
     "data": {
      "text/plain": [
       "<speech_recognition.AudioFile at 0x22f2eaa2310>"
      ]
     },
     "execution_count": 15,
     "metadata": {},
     "output_type": "execute_result"
    }
   ],
   "source": [
    "samp=sr.AudioFile(\"harvard.wav\")\n",
    "samp"
   ]
  },
  {
   "cell_type": "markdown",
   "id": "741885b7",
   "metadata": {},
   "source": [
    "# With this as source,'record' the audio from the file\n"
   ]
  },
  {
   "cell_type": "code",
   "execution_count": 16,
   "id": "5959719c",
   "metadata": {},
   "outputs": [],
   "source": [
    "with samp as source:\n",
    "    audio=recog.record(samp)"
   ]
  },
  {
   "cell_type": "markdown",
   "id": "7033c8cc",
   "metadata": {},
   "source": [
    "# Using 'recognize_google' method,convert the audio to text"
   ]
  },
  {
   "cell_type": "code",
   "execution_count": 17,
   "id": "19aa5256",
   "metadata": {},
   "outputs": [
    {
     "name": "stdout",
     "output_type": "stream",
     "text": [
      "Text for the Audio:\n",
      "\n",
      "the still smell of old buildings it takes heat to bring out the order I call debt restore pickle please find with him Tales of pastor are my favourite is just for food is the hot cross bun\n"
     ]
    }
   ],
   "source": [
    "res=recog.recognize_google(audio)\n",
    "print('Text for the Audio:\\n')\n",
    "print(res)"
   ]
  },
  {
   "cell_type": "markdown",
   "id": "7767230b",
   "metadata": {},
   "source": [
    "# create a function to convert text from speech"
   ]
  },
  {
   "cell_type": "code",
   "execution_count": 18,
   "id": "e701b555",
   "metadata": {},
   "outputs": [],
   "source": [
    "def speech_to_text(file):\n",
    "    samp=sr.AudioFile(file)\n",
    "    with samp as source:\n",
    "        audio=recog.record(samp)\n",
    "    return recog.recognize_google(audio)"
   ]
  },
  {
   "cell_type": "code",
   "execution_count": 20,
   "id": "a225b5b7",
   "metadata": {},
   "outputs": [
    {
     "name": "stdout",
     "output_type": "stream",
     "text": [
      "the still smell of old buildings it takes heat to bring out the order I call debt restore pickle please find with him Tales of pastor are my favourite is just for food is the hot cross bun\n"
     ]
    }
   ],
   "source": [
    "op_text=speech_to_text(\"harvard.wav\")\n",
    "print(op_text)"
   ]
  },
  {
   "cell_type": "markdown",
   "id": "630c044e",
   "metadata": {},
   "source": [
    "# Preprocess the Text"
   ]
  },
  {
   "cell_type": "code",
   "execution_count": 21,
   "id": "9594f998",
   "metadata": {
    "scrolled": true
   },
   "outputs": [
    {
     "data": {
      "text/plain": [
       "['the',\n",
       " 'still',\n",
       " 'smell',\n",
       " 'of',\n",
       " 'old',\n",
       " 'buildings',\n",
       " 'it',\n",
       " 'takes',\n",
       " 'heat',\n",
       " 'to',\n",
       " 'bring',\n",
       " 'out',\n",
       " 'the',\n",
       " 'order',\n",
       " 'i',\n",
       " 'call',\n",
       " 'debt',\n",
       " 'restore',\n",
       " 'pickle',\n",
       " 'please',\n",
       " 'find',\n",
       " 'with',\n",
       " 'him',\n",
       " 'tales',\n",
       " 'of',\n",
       " 'pastor',\n",
       " 'are',\n",
       " 'my',\n",
       " 'favourite',\n",
       " 'is',\n",
       " 'just',\n",
       " 'for',\n",
       " 'food',\n",
       " 'is',\n",
       " 'the',\n",
       " 'hot',\n",
       " 'cross',\n",
       " 'bun']"
      ]
     },
     "execution_count": 21,
     "metadata": {},
     "output_type": "execute_result"
    }
   ],
   "source": [
    "from nltk.tokenize import word_tokenize\n",
    "tokens=word_tokenize(op_text.lower())\n",
    "tokens"
   ]
  },
  {
   "cell_type": "markdown",
   "id": "2aa40d50",
   "metadata": {},
   "source": [
    "# Define feature list"
   ]
  },
  {
   "cell_type": "code",
   "execution_count": 24,
   "id": "18e37c21",
   "metadata": {},
   "outputs": [
    {
     "data": {
      "text/plain": [
       "['echo',\n",
       " 'alexa',\n",
       " 'music',\n",
       " 'sound',\n",
       " 'button',\n",
       " 'bluetooth',\n",
       " 'voice',\n",
       " 'battery',\n",
       " 'dot',\n",
       " 'phone']"
      ]
     },
     "execution_count": 24,
     "metadata": {},
     "output_type": "execute_result"
    }
   ],
   "source": [
    "feature_list=['echo','alexa','music','sound','button','bluetooth','voice','battery','dot','phone']\n",
    "feature_list"
   ]
  },
  {
   "cell_type": "markdown",
   "id": "3bd9cb66",
   "metadata": {},
   "source": [
    "# Identify which of the features are being talked of in the audio review file"
   ]
  },
  {
   "cell_type": "code",
   "execution_count": 27,
   "id": "417ae6eb",
   "metadata": {},
   "outputs": [
    {
     "data": {
      "text/plain": [
       "[]"
      ]
     },
     "execution_count": 27,
     "metadata": {},
     "output_type": "execute_result"
    }
   ],
   "source": [
    "review_features=[term for term in tokens if term in feature_list]\n",
    "review_features"
   ]
  },
  {
   "cell_type": "code",
   "execution_count": 28,
   "id": "9eeb6778",
   "metadata": {},
   "outputs": [
    {
     "data": {
      "text/plain": [
       "[]"
      ]
     },
     "execution_count": 28,
     "metadata": {},
     "output_type": "execute_result"
    }
   ],
   "source": [
    "review_features=list(set(review_features))\n",
    "review_features"
   ]
  },
  {
   "cell_type": "markdown",
   "id": "cf568341",
   "metadata": {},
   "source": [
    "# Recording from mic"
   ]
  },
  {
   "cell_type": "code",
   "execution_count": 30,
   "id": "fe82d8ee",
   "metadata": {},
   "outputs": [
    {
     "data": {
      "text/plain": [
       "['Microsoft Sound Mapper - Input',\n",
       " 'Microphone (Realtek(R) Audio)',\n",
       " 'Stereo Mix (Realtek(R) Audio)',\n",
       " 'Microsoft Sound Mapper - Output',\n",
       " 'Speaker / Headphone (Realtek(R)',\n",
       " 'Primary Sound Capture Driver',\n",
       " 'Microphone (Realtek(R) Audio)',\n",
       " 'Stereo Mix (Realtek(R) Audio)',\n",
       " 'Primary Sound Driver',\n",
       " 'Speaker / Headphone (Realtek(R) Audio)',\n",
       " 'Speaker / Headphone (Realtek(R) Audio)',\n",
       " 'Microphone (Realtek(R) Audio)',\n",
       " 'Stereo Mix (Realtek(R) Audio)',\n",
       " 'Microphone (Realtek HD Audio Mic input)',\n",
       " 'Stereo Mix (Realtek HD Audio Stereo input)',\n",
       " 'Speakers (Realtek HD Audio output)']"
      ]
     },
     "execution_count": 30,
     "metadata": {},
     "output_type": "execute_result"
    }
   ],
   "source": [
    "mic=sr.Microphone()\n",
    "mic.list_microphone_names()"
   ]
  },
  {
   "cell_type": "code",
   "execution_count": 36,
   "id": "075fdc6d",
   "metadata": {},
   "outputs": [],
   "source": [
    "with mic as source:\n",
    "    audio=recog.listen(source)"
   ]
  },
  {
   "cell_type": "code",
   "execution_count": 37,
   "id": "e70b2a6a",
   "metadata": {},
   "outputs": [
    {
     "data": {
      "text/plain": [
       "'England ki Shakti Maharaj aur Rus aur England ki Shakti mein bhi Aditya Vishva yuddh ke kinhin Panch parinaam nirnay dwitiya Vishva yuddh ke pass parinaam Nahin jandhan Ki Hani Singh ka Nirman Ka Ant England ki Shakti Mein Harshvardhan ka time now'"
      ]
     },
     "execution_count": 37,
     "metadata": {},
     "output_type": "execute_result"
    }
   ],
   "source": [
    "recog.recognize_google(audio)"
   ]
  },
  {
   "cell_type": "code",
   "execution_count": 38,
   "id": "529204a0",
   "metadata": {},
   "outputs": [],
   "source": [
    "def get_review_features(review_text):\n",
    "    feature_list=['echo','alexa','music','sound','button','bluetooth','voice','battery','dot','phone']\n",
    "    tokens=word_tokenize(review_text.lower())\n",
    "    review_features=[term for term in tokens if term in feature_list]\n",
    "    review_features=list(set(review_features))\n",
    "    return review_features"
   ]
  },
  {
   "cell_type": "code",
   "execution_count": 39,
   "id": "c8158a0b",
   "metadata": {},
   "outputs": [
    {
     "data": {
      "text/plain": [
       "[]"
      ]
     },
     "execution_count": 39,
     "metadata": {},
     "output_type": "execute_result"
    }
   ],
   "source": [
    "res=recog.recognize_google(audio)\n",
    "get_review_features(res)"
   ]
  },
  {
   "cell_type": "code",
   "execution_count": null,
   "id": "dfd23cfd",
   "metadata": {},
   "outputs": [],
   "source": []
  }
 ],
 "metadata": {
  "kernelspec": {
   "display_name": "Python 3 (ipykernel)",
   "language": "python",
   "name": "python3"
  },
  "language_info": {
   "codemirror_mode": {
    "name": "ipython",
    "version": 3
   },
   "file_extension": ".py",
   "mimetype": "text/x-python",
   "name": "python",
   "nbconvert_exporter": "python",
   "pygments_lexer": "ipython3",
   "version": "3.11.5"
  }
 },
 "nbformat": 4,
 "nbformat_minor": 5
}
