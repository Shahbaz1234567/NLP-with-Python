{
 "cells": [
  {
   "cell_type": "markdown",
   "id": "358e4a0e",
   "metadata": {},
   "source": [
    "# AIML(AI Markup Language):\n",
    "    \n",
    "    1. XML based markup language\n",
    "    \n",
    "    2. pattern nased heuristics\n",
    "    \n",
    "    3. easy to understand and highly maintainable\n",
    "    \n",
    "    4.Useful in creating artificially intelligent applications"
   ]
  },
  {
   "cell_type": "markdown",
   "id": "c6921e8d",
   "metadata": {},
   "source": [
    "# Used in :\n",
    "    \n",
    "    Chatbot\n",
    "    \n",
    "    Superbot\n",
    "    \n",
    "    Verbot"
   ]
  },
  {
   "cell_type": "markdown",
   "id": "94d4873b",
   "metadata": {},
   "source": [
    "# Elements:\n",
    "    \n",
    "    <template>\n",
    "    \n",
    "    <aiml>\n",
    "    \n",
    "    <pattern>\n",
    "    \n",
    "    <category>"
   ]
  },
  {
   "cell_type": "code",
   "execution_count": 22,
   "id": "19e4a610",
   "metadata": {},
   "outputs": [],
   "source": [
    "import os\n",
    "import aiml\n"
   ]
  },
  {
   "cell_type": "code",
   "execution_count": 23,
   "id": "11dd5b03",
   "metadata": {},
   "outputs": [],
   "source": [
    "import autocorrect\n",
    "from autocorrect import spell"
   ]
  },
  {
   "cell_type": "code",
   "execution_count": 24,
   "id": "f51657c6",
   "metadata": {},
   "outputs": [],
   "source": [
    "BRAIN_FILE='C:/Users/Admin/OneDrive/NLP_Mphasis_MLA_Training/aiml_pretrained_model.dump'"
   ]
  },
  {
   "cell_type": "code",
   "execution_count": 33,
   "id": "f2c0ddec",
   "metadata": {},
   "outputs": [],
   "source": [
    "k=aiml.Kernel()\n"
   ]
  },
  {
   "cell_type": "code",
   "execution_count": 34,
   "id": "c960855e",
   "metadata": {},
   "outputs": [
    {
     "data": {
      "text/plain": [
       "aiml.Kernel.Kernel"
      ]
     },
     "execution_count": 34,
     "metadata": {},
     "output_type": "execute_result"
    }
   ],
   "source": [
    "aiml.Kernel"
   ]
  },
  {
   "cell_type": "code",
   "execution_count": 35,
   "id": "0ac0f163",
   "metadata": {},
   "outputs": [
    {
     "name": "stdout",
     "output_type": "stream",
     "text": [
      "Loading from brain file: C:/Users/Admin/OneDrive/NLP_Mphasis_MLA_Training/aiml_pretrained_model.dump\n",
      "Loading brain from C:/Users/Admin/OneDrive/NLP_Mphasis_MLA_Training/aiml_pretrained_model.dump..."
     ]
    },
    {
     "ename": "AttributeError",
     "evalue": "module 'time' has no attribute 'clock'",
     "output_type": "error",
     "traceback": [
      "\u001b[1;31m---------------------------------------------------------------------------\u001b[0m",
      "\u001b[1;31mAttributeError\u001b[0m                            Traceback (most recent call last)",
      "Cell \u001b[1;32mIn[35], line 3\u001b[0m\n\u001b[0;32m      1\u001b[0m \u001b[38;5;28;01mif\u001b[39;00m os\u001b[38;5;241m.\u001b[39mpath\u001b[38;5;241m.\u001b[39mexists(BRAIN_FILE):\n\u001b[0;32m      2\u001b[0m     \u001b[38;5;28mprint\u001b[39m(\u001b[38;5;124m'\u001b[39m\u001b[38;5;124mLoading from brain file: \u001b[39m\u001b[38;5;124m'\u001b[39m\u001b[38;5;241m+\u001b[39mBRAIN_FILE)\n\u001b[1;32m----> 3\u001b[0m     k\u001b[38;5;241m.\u001b[39mloadBrain(BRAIN_FILE)\n\u001b[0;32m      5\u001b[0m \u001b[38;5;28;01melse\u001b[39;00m:\n\u001b[0;32m      6\u001b[0m     \u001b[38;5;28mprint\u001b[39m(\u001b[38;5;124m'\u001b[39m\u001b[38;5;124mParsing aiml files\u001b[39m\u001b[38;5;124m'\u001b[39m)\n",
      "File \u001b[1;32m~\\anaconda3\\Lib\\site-packages\\aiml\\Kernel.py:192\u001b[0m, in \u001b[0;36mKernel.loadBrain\u001b[1;34m(self, filename)\u001b[0m\n\u001b[0;32m    185\u001b[0m \u001b[38;5;250m\u001b[39m\u001b[38;5;124;03m\"\"\"Attempt to load a previously-saved 'brain' from the\u001b[39;00m\n\u001b[0;32m    186\u001b[0m \u001b[38;5;124;03mspecified filename.\u001b[39;00m\n\u001b[0;32m    187\u001b[0m \n\u001b[0;32m    188\u001b[0m \u001b[38;5;124;03mNOTE: the current contents of the 'brain' will be discarded!\u001b[39;00m\n\u001b[0;32m    189\u001b[0m \n\u001b[0;32m    190\u001b[0m \u001b[38;5;124;03m\"\"\"\u001b[39;00m\n\u001b[0;32m    191\u001b[0m \u001b[38;5;28;01mif\u001b[39;00m \u001b[38;5;28mself\u001b[39m\u001b[38;5;241m.\u001b[39m_verboseMode: \u001b[38;5;28mprint\u001b[39m( \u001b[38;5;124m\"\u001b[39m\u001b[38;5;124mLoading brain from \u001b[39m\u001b[38;5;132;01m%s\u001b[39;00m\u001b[38;5;124m...\u001b[39m\u001b[38;5;124m\"\u001b[39m \u001b[38;5;241m%\u001b[39m filename, end\u001b[38;5;241m=\u001b[39m\u001b[38;5;124m\"\u001b[39m\u001b[38;5;124m\"\u001b[39m )\n\u001b[1;32m--> 192\u001b[0m start \u001b[38;5;241m=\u001b[39m time\u001b[38;5;241m.\u001b[39mclock()\n\u001b[0;32m    193\u001b[0m \u001b[38;5;28mself\u001b[39m\u001b[38;5;241m.\u001b[39m_brain\u001b[38;5;241m.\u001b[39mrestore(filename)\n\u001b[0;32m    194\u001b[0m \u001b[38;5;28;01mif\u001b[39;00m \u001b[38;5;28mself\u001b[39m\u001b[38;5;241m.\u001b[39m_verboseMode:\n",
      "\u001b[1;31mAttributeError\u001b[0m: module 'time' has no attribute 'clock'"
     ]
    }
   ],
   "source": [
    "if os.path.exists(BRAIN_FILE):\n",
    "    print('Loading from brain file: '+BRAIN_FILE)\n",
    "    k.loadBrain(BRAIN_FILE)\n",
    "    \n",
    "else:\n",
    "    print('Parsing aiml files')\n",
    "    k.bootstrap(learnFiles='learningFileList.aiml',commands=\"load aiml\")\n",
    "    print('Saving brain file: '+BRAIN_FILE)\n",
    "    k.saveBrain(BRAIN_FILE)\n",
    "    \n",
    "while True:\n",
    "    query=input(\"User>> \")\n",
    "    query=[spell(w) for w in (query.split())]\n",
    "    question=\" \".join(query)\n",
    "    response=k.respond(question)\n",
    "    if response:\n",
    "        print('bot > ',response)\n",
    "    else:\n",
    "        print('bot >: ',)"
   ]
  },
  {
   "cell_type": "code",
   "execution_count": 39,
   "id": "43ab0ff9",
   "metadata": {},
   "outputs": [
    {
     "name": "stdout",
     "output_type": "stream",
     "text": [
      "Loading C:/Users/Admin/OneDrive/NLP_Mphasis_MLA_Training/data\\ai.aiml..."
     ]
    },
    {
     "ename": "AttributeError",
     "evalue": "module 'time' has no attribute 'clock'",
     "output_type": "error",
     "traceback": [
      "\u001b[1;31m---------------------------------------------------------------------------\u001b[0m",
      "\u001b[1;31mAttributeError\u001b[0m                            Traceback (most recent call last)",
      "Cell \u001b[1;32mIn[39], line 3\u001b[0m\n\u001b[0;32m      1\u001b[0m \u001b[38;5;28;01mimport\u001b[39;00m \u001b[38;5;21;01maiml\u001b[39;00m\n\u001b[0;32m      2\u001b[0m kernel\u001b[38;5;241m=\u001b[39maiml\u001b[38;5;241m.\u001b[39mKernel()\n\u001b[1;32m----> 3\u001b[0m kernel\u001b[38;5;241m.\u001b[39mlearn(\u001b[38;5;124m'\u001b[39m\u001b[38;5;124mC:/Users/Admin/OneDrive/NLP_Mphasis_MLA_Training/data/*.aiml\u001b[39m\u001b[38;5;124m'\u001b[39m)\n\u001b[0;32m      5\u001b[0m \u001b[38;5;28;01mwhile\u001b[39;00m \u001b[38;5;28;01mTrue\u001b[39;00m:\n\u001b[0;32m      6\u001b[0m     user_input\u001b[38;5;241m=\u001b[39m\u001b[38;5;28minput\u001b[39m(\u001b[38;5;124m'\u001b[39m\u001b[38;5;124mUser: \u001b[39m\u001b[38;5;124m'\u001b[39m)\n",
      "File \u001b[1;32m~\\anaconda3\\Lib\\site-packages\\aiml\\Kernel.py:335\u001b[0m, in \u001b[0;36mKernel.learn\u001b[1;34m(self, filename)\u001b[0m\n\u001b[0;32m    333\u001b[0m \u001b[38;5;28;01mfor\u001b[39;00m f \u001b[38;5;129;01min\u001b[39;00m glob\u001b[38;5;241m.\u001b[39mglob(filename):\n\u001b[0;32m    334\u001b[0m     \u001b[38;5;28;01mif\u001b[39;00m \u001b[38;5;28mself\u001b[39m\u001b[38;5;241m.\u001b[39m_verboseMode: \u001b[38;5;28mprint\u001b[39m( \u001b[38;5;124m\"\u001b[39m\u001b[38;5;124mLoading \u001b[39m\u001b[38;5;132;01m%s\u001b[39;00m\u001b[38;5;124m...\u001b[39m\u001b[38;5;124m\"\u001b[39m \u001b[38;5;241m%\u001b[39m f, end\u001b[38;5;241m=\u001b[39m\u001b[38;5;124m\"\u001b[39m\u001b[38;5;124m\"\u001b[39m)\n\u001b[1;32m--> 335\u001b[0m     start \u001b[38;5;241m=\u001b[39m time\u001b[38;5;241m.\u001b[39mclock()\n\u001b[0;32m    336\u001b[0m     \u001b[38;5;66;03m# Load and parse the AIML file.\u001b[39;00m\n\u001b[0;32m    337\u001b[0m     parser \u001b[38;5;241m=\u001b[39m create_parser()\n",
      "\u001b[1;31mAttributeError\u001b[0m: module 'time' has no attribute 'clock'"
     ]
    }
   ],
   "source": [
    "import aiml\n",
    "kernel=aiml.Kernel()\n",
    "kernel.learn('C:/Users/Admin/OneDrive/NLP_Mphasis_MLA_Training/data/*.aiml')\n",
    "\n",
    "while True:\n",
    "    user_input=input('User: ')\n",
    "    if user_input.lower()=='exit':\n",
    "        break\n",
    "    response=kernel.respond(user_input)\n",
    "    print(f\"Bot : {response}\")"
   ]
  },
  {
   "cell_type": "code",
   "execution_count": null,
   "id": "65a899b9",
   "metadata": {},
   "outputs": [],
   "source": []
  }
 ],
 "metadata": {
  "kernelspec": {
   "display_name": "Python 3 (ipykernel)",
   "language": "python",
   "name": "python3"
  },
  "language_info": {
   "codemirror_mode": {
    "name": "ipython",
    "version": 3
   },
   "file_extension": ".py",
   "mimetype": "text/x-python",
   "name": "python",
   "nbconvert_exporter": "python",
   "pygments_lexer": "ipython3",
   "version": "3.11.3"
  }
 },
 "nbformat": 4,
 "nbformat_minor": 5
}
