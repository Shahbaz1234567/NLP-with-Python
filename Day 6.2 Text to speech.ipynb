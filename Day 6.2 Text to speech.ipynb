{
 "cells": [
  {
   "cell_type": "code",
   "execution_count": 1,
   "id": "deee55bf",
   "metadata": {},
   "outputs": [
    {
     "name": "stdout",
     "output_type": "stream",
     "text": [
      "User text pl >>:Hello Shahbaz !!! what going on ?\n"
     ]
    }
   ],
   "source": [
    "from gtts import gTTS\n",
    "import os\n",
    "def text_to_speech(text,language='en',filename='output.mp3'):\n",
    "    tts=gTTS(text=text,lang=language,slow=False)\n",
    "    tts.save(filename)\n",
    "    os.system(f\"start {filename}\")\n",
    " \n",
    "if __name__==\"__main__\":\n",
    "    input_text=input('User text pl >>:')\n",
    "    text_to_speech(input_text)"
   ]
  },
  {
   "cell_type": "code",
   "execution_count": 2,
   "id": "4db6a628",
   "metadata": {},
   "outputs": [
    {
     "name": "stdout",
     "output_type": "stream",
     "text": [
      "User text pl >>:The library reference documents every publicly accessible object in the library. This document is also included under reference/library-reference.rst. See Note s on using PocketSphinx for information about installing languages, compiling PocketSphi nx, and building language packs from online resources. This document is also included un der reference/pocketsphinx.rst. You have to install Vosk models for using Vosk. Here ar e models avaiable. You have to place them in models folder of your project, like \"your-p roject-folder/models/your-vosk-model\"\n"
     ]
    }
   ],
   "source": [
    "from gtts import gTTS\n",
    "import os\n",
    "def text_to_speech(text,language='en',filename='aa.mp3'):\n",
    "    tts=gTTS(text=text,lang=language,slow=False)\n",
    "    tts.save(filename)\n",
    "    os.system(f\"start {filename}\")\n",
    " \n",
    "if __name__==\"__main__\":\n",
    "    input_text=input('User text pl >>:')\n",
    "    text_to_speech(input_text)\n"
   ]
  },
  {
   "cell_type": "code",
   "execution_count": null,
   "id": "bbed2657",
   "metadata": {},
   "outputs": [],
   "source": []
  }
 ],
 "metadata": {
  "kernelspec": {
   "display_name": "Python 3 (ipykernel)",
   "language": "python",
   "name": "python3"
  },
  "language_info": {
   "codemirror_mode": {
    "name": "ipython",
    "version": 3
   },
   "file_extension": ".py",
   "mimetype": "text/x-python",
   "name": "python",
   "nbconvert_exporter": "python",
   "pygments_lexer": "ipython3",
   "version": "3.11.5"
  }
 },
 "nbformat": 4,
 "nbformat_minor": 5
}
