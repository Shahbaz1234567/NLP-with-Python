{
 "cells": [
  {
   "cell_type": "code",
   "execution_count": 2,
   "id": "f17d31de",
   "metadata": {},
   "outputs": [],
   "source": [
    "import os\n",
    "import aiml"
   ]
  },
  {
   "cell_type": "code",
   "execution_count": 3,
   "id": "ac0ce4f9",
   "metadata": {},
   "outputs": [],
   "source": [
    "import autocorrect\n",
    "from autocorrect import spell"
   ]
  },
  {
   "cell_type": "code",
   "execution_count": null,
   "id": "03ed0a31",
   "metadata": {},
   "outputs": [],
   "source": [
    "BRAIN_FILE=''"
   ]
  },
  {
   "cell_type": "code",
   "execution_count": 4,
   "id": "daff41fc",
   "metadata": {},
   "outputs": [],
   "source": [
    "k=aiml.Kernel()"
   ]
  },
  {
   "cell_type": "code",
   "execution_count": null,
   "id": "072c8c4a",
   "metadata": {},
   "outputs": [],
   "source": [
    "if os.path.exists('Loading from brain file: '+BRAIN_FILE):\n",
    "    k.loadBrain(BRAIN_FILE)\n",
    "else:\n",
    "    print('Parsing aiml files')\n",
    "    k.bootstrap(leranfiles='leraningFilesList.aiml', commands='load aiml')\n",
    "    print('Saving brain file:'+ BRAIN_FILE)\n",
    "    \n",
    "while True:\n",
    "    "
   ]
  }
 ],
 "metadata": {
  "kernelspec": {
   "display_name": "Python 3 (ipykernel)",
   "language": "python",
   "name": "python3"
  },
  "language_info": {
   "codemirror_mode": {
    "name": "ipython",
    "version": 3
   },
   "file_extension": ".py",
   "mimetype": "text/x-python",
   "name": "python",
   "nbconvert_exporter": "python",
   "pygments_lexer": "ipython3",
   "version": "3.11.5"
  }
 },
 "nbformat": 4,
 "nbformat_minor": 5
}
