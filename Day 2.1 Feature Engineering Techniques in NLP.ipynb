{
 "cells": [
  {
   "cell_type": "markdown",
   "id": "c8633809",
   "metadata": {},
   "source": [
    "# Feature Extraction:\n",
    "    \n",
    "1. BOW\n",
    "\n",
    "2. Ngram\n",
    "\n",
    "3. TF-IDF\n",
    "\n",
    "4. Onehot encoding\n",
    "\n",
    "5. Word2vec\n",
    "\n",
    "6. doc2vec\n"
   ]
  },
  {
   "cell_type": "markdown",
   "id": "04ccf50e",
   "metadata": {},
   "source": [
    "# BOW-Bag of words"
   ]
  },
  {
   "cell_type": "code",
   "execution_count": 1,
   "id": "065096d0",
   "metadata": {},
   "outputs": [
    {
     "name": "stdout",
     "output_type": "stream",
     "text": [
      "Feature names:\n",
      " ['daughter' 'had' 'have' 'lamp' 'lamps' 'little' 'mary' 'of' 'silence'\n",
      " 'starthe' 'twinkle']\n",
      "\n",
      "BOW Matrix:\n",
      "\n",
      "[[1 0 1 0 0 1 0 0 0 0 0]\n",
      " [0 1 0 1 0 1 1 0 0 0 0]\n",
      " [0 0 0 0 1 1 0 1 1 1 2]]\n"
     ]
    }
   ],
   "source": [
    "from sklearn.feature_extraction.text import CountVectorizer\n",
    "text=['I have a little daughter','Mary had a little lamp','Twinkle twinkle little star'\n",
    " 'The silence of lamps']\n",
    "#Initialize the vector\n",
    "vectorizer=CountVectorizer()\n",
    "#transform\n",
    "x=vectorizer.fit_transform(text)\n",
    "#get feature names(words)\n",
    "feature_names=vectorizer.get_feature_names_out()\n",
    "#Display BOW-Matrix\n",
    "print('Feature names:\\n',feature_names)\n",
    "print()\n",
    "print('BOW Matrix:\\n')\n",
    "print(x.toarray())"
   ]
  },
  {
   "cell_type": "markdown",
   "id": "8aef382a",
   "metadata": {},
   "source": [
    "# TF-IDF"
   ]
  },
  {
   "cell_type": "code",
   "execution_count": 2,
   "id": "598778e5",
   "metadata": {},
   "outputs": [
    {
     "name": "stdout",
     "output_type": "stream",
     "text": [
      "Feature Names(TF-IDF):\n",
      " ['daughter' 'had' 'have' 'lamp' 'lamps' 'little' 'mary' 'of' 'silence'\n",
      " 'starthe' 'twinkle']\n",
      "\n",
      "TF-IDF Matrix:\n",
      " [[0.65249088 0.         0.65249088 0.         0.         0.38537163\n",
      "  0.         0.         0.         0.         0.        ]\n",
      " [0.         0.54645401 0.         0.54645401 0.         0.32274454\n",
      "  0.54645401 0.         0.         0.         0.        ]\n",
      " [0.         0.         0.         0.         0.34608857 0.20440549\n",
      "  0.         0.34608857 0.34608857 0.34608857 0.69217714]]\n"
     ]
    }
   ],
   "source": [
    "from sklearn.feature_extraction.text import TfidfVectorizer\n",
    "text=['I have a little daughter','Mary had a little lamp','Twinkle twinkle little star'\n",
    " 'The silence of lamps']\n",
    "tfidf=TfidfVectorizer()\n",
    "x_tfidf=tfidf.fit_transform(text)\n",
    "features_names_tfidf=tfidf.get_feature_names_out()\n",
    "print('Feature Names(TF-IDF):\\n',features_names_tfidf)\n",
    "print()\n",
    "print('TF-IDF Matrix:\\n',x_tfidf.toarray())"
   ]
  },
  {
   "cell_type": "code",
   "execution_count": 5,
   "id": "64fbf308",
   "metadata": {},
   "outputs": [
    {
     "name": "stdout",
     "output_type": "stream",
     "text": [
      "Enter a statement:\n",
      "\thello, welcome to the nlp day 2 session. Hope the session going well. Wanted to check that the session is understandable\n",
      "hello, welcome to the nlp day 2 session.\n",
      "40\n",
      "Hope the session going well.\n",
      "28\n",
      "Wanted to check that the session is understandable\n",
      "50\n",
      "\n",
      "Feature Names(TF-IDF):\n",
      " ['check' 'day' 'going' 'hello' 'hope' 'is' 'nlp' 'session' 'that' 'the'\n",
      " 'to' 'understandable' 'wanted' 'welcome' 'well']\n",
      "\n",
      "TF-IDF Matrix:\n",
      " [[0.         0.43535684 0.         0.43535684 0.         0.\n",
      "  0.43535684 0.25712876 0.         0.25712876 0.3311001  0.\n",
      "  0.         0.43535684 0.        ]\n",
      " [0.         0.         0.52004008 0.         0.52004008 0.\n",
      "  0.         0.30714405 0.         0.30714405 0.         0.\n",
      "  0.         0.         0.52004008]\n",
      " [0.39916886 0.         0.         0.         0.         0.39916886\n",
      "  0.         0.23575556 0.39916886 0.23575556 0.30357821 0.39916886\n",
      "  0.39916886 0.         0.        ]]\n"
     ]
    }
   ],
   "source": [
    "import nltk\n",
    "from nltk.tokenize import sent_tokenize\n",
    "from sklearn.feature_extraction.text import TfidfVectorizer\n",
    "text=input('Enter a statement:\\n\\t')\n",
    "\n",
    "sent_token=sent_tokenize(text)\n",
    "#print('Sentences:\\n',sent_token)\n",
    "for sent in sent_token:\n",
    "    print(sent)\n",
    "    print(len(sent))\n",
    " \n",
    "print()\n",
    "\n",
    "tfidf=TfidfVectorizer()\n",
    "x_tfidf=tfidf.fit_transform(sent_token)\n",
    "features_names_tfidf=tfidf.get_feature_names_out()\n",
    "print('Feature Names(TF-IDF):\\n',features_names_tfidf)\n",
    "print()\n",
    "print('TF-IDF Matrix:\\n',x_tfidf.toarray())"
   ]
  },
  {
   "cell_type": "markdown",
   "id": "1a2b654f",
   "metadata": {},
   "source": [
    "# N-grams:"
   ]
  },
  {
   "cell_type": "code",
   "execution_count": 6,
   "id": "328f7dc8",
   "metadata": {},
   "outputs": [
    {
     "name": "stdout",
     "output_type": "stream",
     "text": [
      "Original text:g-grams are used in natural language processing\n",
      "\n",
      "Generated 2-grams:\n",
      "('g-grams', 'are')\n",
      "('are', 'used')\n",
      "('used', 'in')\n",
      "('in', 'natural')\n",
      "('natural', 'language')\n",
      "('language', 'processing')\n"
     ]
    }
   ],
   "source": [
    "import nltk\n",
    "from nltk import ngrams\n",
    "text='g-grams are used in natural language processing'\n",
    "tokens=nltk.word_tokenize(text)\n",
    "#Generate bigrams\n",
    "n=2\n",
    "bigrams=list(ngrams(tokens,n))\n",
    "print(f\"Original text:{text}\")\n",
    "print()\n",
    "print(f\"Generated {n}-grams:\")\n",
    "for gram in bigrams:\n",
    "    print(gram)"
   ]
  },
  {
   "cell_type": "code",
   "execution_count": 7,
   "id": "439795cb",
   "metadata": {},
   "outputs": [
    {
     "name": "stdout",
     "output_type": "stream",
     "text": [
      "Original text:g-grams are used in natural language processing\n",
      "\n",
      "Generated 3-grams:\n",
      "('g-grams', 'are', 'used')\n",
      "('are', 'used', 'in')\n",
      "('used', 'in', 'natural')\n",
      "('in', 'natural', 'language')\n",
      "('natural', 'language', 'processing')\n"
     ]
    }
   ],
   "source": [
    "import nltk\n",
    "from nltk import ngrams\n",
    "text='g-grams are used in natural language processing'\n",
    "tokens=nltk.word_tokenize(text)\n",
    "#Generate n-grams\n",
    "n=3\n",
    "ngrams=list(ngrams(tokens,n))\n",
    "print(f\"Original text:{text}\")\n",
    "\n",
    "print()\n",
    "print(f\"Generated {n}-grams:\")\n",
    "for gram in ngrams:\n",
    "    print(gram)"
   ]
  },
  {
   "cell_type": "code",
   "execution_count": 8,
   "id": "dc2e9f02",
   "metadata": {},
   "outputs": [
    {
     "name": "stdout",
     "output_type": "stream",
     "text": [
      "Original text:g-grams are used in natural language processing\n",
      "\n",
      "Generated 4-grams:\n",
      "('g-grams', 'are', 'used', 'in')\n",
      "('are', 'used', 'in', 'natural')\n",
      "('used', 'in', 'natural', 'language')\n",
      "('in', 'natural', 'language', 'processing')\n"
     ]
    }
   ],
   "source": [
    "import nltk\n",
    "from nltk import ngrams\n",
    "text='g-grams are used in natural language processing'\n",
    "tokens=nltk.word_tokenize(text)\n",
    "#Generate n-grams\n",
    "n=4\n",
    "ngrams=list(ngrams(tokens,n))\n",
    "print(f\"Original text:{text}\")\n",
    "print()\n",
    "print(f\"Generated {n}-grams:\")\n",
    "for gram in ngrams:\n",
    "    print(gram)"
   ]
  },
  {
   "cell_type": "code",
   "execution_count": 9,
   "id": "1b425a94",
   "metadata": {},
   "outputs": [
    {
     "name": "stdout",
     "output_type": "stream",
     "text": [
      "Original text:g-grams are used in natural language processing\n",
      "\n",
      "Generated 2-grams:\n",
      "['g-grams', 'are']\n",
      "['are', 'used']\n",
      "['used', 'in']\n",
      "['in', 'natural']\n",
      "['natural', 'language']\n",
      "['language', 'processing']\n"
     ]
    }
   ],
   "source": [
    "#generate n-grams with list comprehension\n",
    "n=2\n",
    "text='g-grams are used in natural language processing'\n",
    "tokens=nltk.word_tokenize(text)\n",
    "ngrams=[tokens[i:i+n] for i in range(len(tokens)-n+1)]\n",
    "print(f\"Original text:{text}\")\n",
    "print()\n",
    "print(f\"Generated {n}-grams:\")\n",
    "for gram in ngrams:\n",
    "    print(gram)\n"
   ]
  },
  {
   "cell_type": "code",
   "execution_count": 10,
   "id": "0ef93592",
   "metadata": {},
   "outputs": [
    {
     "name": "stdout",
     "output_type": "stream",
     "text": [
      "Original text:g-grams are used in natural language processing\n",
      "\n",
      "Generated 3-grams:\n",
      "['g-grams', 'are', 'used']\n",
      "['are', 'used', 'in']\n",
      "['used', 'in', 'natural']\n",
      "['in', 'natural', 'language']\n",
      "['natural', 'language', 'processing']\n"
     ]
    }
   ],
   "source": [
    "#generate n-grams with list comprehension\n",
    "n=3\n",
    "text='g-grams are used in natural language processing'\n",
    "tokens=nltk.word_tokenize(text)\n",
    "ngrams=[tokens[i:i+n] for i in range(len(tokens)-n+1)]\n",
    "print(f\"Original text:{text}\")\n",
    "print()\n",
    "print(f\"Generated {n}-grams:\")\n",
    "for gram in ngrams:\n",
    "    print(gram)"
   ]
  },
  {
   "cell_type": "markdown",
   "id": "cc78d8e8",
   "metadata": {},
   "source": [
    "# onehot encoding:\n",
    "    \n",
    "Use for categorical data\n",
    "\n",
    "converting text token into numeric form\n",
    "\n",
    "steps:\n",
    "1. Tokenization\n",
    "2. Vocabulary creation\n",
    "3. Encoding\n"
   ]
  },
  {
   "cell_type": "code",
   "execution_count": 11,
   "id": "183979ce",
   "metadata": {},
   "outputs": [
    {
     "name": "stdout",
     "output_type": "stream",
     "text": [
      "[array([0., 0., 0., 0., 0., 0., 0., 0., 1., 0., 0., 0., 0., 0.]), array([0., 0., 0., 0., 0., 0., 0., 0., 0., 0., 0., 0., 1., 0.]), array([0., 0., 1., 0., 0., 0., 0., 0., 0., 0., 0., 0., 0., 0.]), array([0., 0., 0., 0., 0., 0., 0., 0., 0., 0., 1., 0., 0., 0.]), array([0., 0., 0., 0., 0., 0., 0., 0., 0., 1., 0., 0., 0., 0.])]\n",
      "[array([0., 0., 0., 1., 0., 0., 0., 0., 0., 0., 0., 0., 0., 0.]), array([0., 1., 0., 0., 0., 0., 0., 0., 0., 0., 0., 0., 0., 0.]), array([0., 0., 1., 0., 0., 0., 0., 0., 0., 0., 0., 0., 0., 0.]), array([0., 0., 0., 0., 0., 0., 0., 0., 0., 0., 1., 0., 0., 0.]), array([1., 0., 0., 0., 0., 0., 0., 0., 0., 0., 0., 0., 0., 0.])]\n",
      "[array([0., 0., 0., 0., 0., 0., 0., 0., 0., 0., 0., 0., 0., 1.]), array([0., 0., 0., 0., 0., 0., 0., 0., 0., 0., 0., 0., 0., 1.]), array([0., 0., 0., 0., 0., 0., 0., 0., 0., 0., 1., 0., 0., 0.]), array([0., 0., 0., 0., 0., 0., 1., 0., 0., 0., 0., 0., 0., 0.])]\n",
      "[array([0., 0., 0., 0., 0., 1., 0., 0., 0., 0., 0., 0., 0., 0.]), array([0., 0., 0., 0., 0., 0., 0., 0., 0., 0., 0., 1., 0., 0.]), array([0., 0., 0., 0., 0., 0., 0., 1., 0., 0., 0., 0., 0., 0.]), array([0., 0., 0., 0., 1., 0., 0., 0., 0., 0., 0., 0., 0., 0.])]\n"
     ]
    }
   ],
   "source": [
    "from sklearn.preprocessing import OneHotEncoder\n",
    "import numpy as np\n",
    "text=['I have a little daughter','Mary had a little lamp','Twinkle twinkle little star','The silence of lamps']\n",
    "#step 1- tokens\n",
    "tokens=[word for sent in text for word in sent.lower().split()]\n",
    "#step 2- vocabulary\n",
    "vocabulary=list(set(tokens)) # unique words in the text\n",
    "#initialize encoder\n",
    "encoder=OneHotEncoder(categories=[vocabulary],sparse=False)\n",
    "\n",
    "#Perform the one-hot encoding\n",
    "one_hot_encoded=[]\n",
    "for sent in text:\n",
    "    sent_encoded=[]\n",
    "    for word in sent.lower().split():\n",
    "        word_index=vocabulary.index(word)\n",
    "        word_vector=np.zeros(len(vocabulary))\n",
    "        word_vector[word_index]=1\n",
    "        sent_encoded.append(word_vector)\n",
    "    one_hot_encoded.append(sent_encoded)\n",
    " \n",
    "for sent in one_hot_encoded:\n",
    "    print(sent)"
   ]
  },
  {
   "cell_type": "code",
   "execution_count": 12,
   "id": "c172359b",
   "metadata": {},
   "outputs": [
    {
     "data": {
      "text/plain": [
       "array([0., 0., 0., 0., 0., 1., 0., 0., 0., 0., 0., 0., 0., 0.])"
      ]
     },
     "execution_count": 12,
     "metadata": {},
     "output_type": "execute_result"
    }
   ],
   "source": [
    "sent[0]"
   ]
  },
  {
   "cell_type": "code",
   "execution_count": 13,
   "id": "7cc5c046",
   "metadata": {},
   "outputs": [
    {
     "data": {
      "text/plain": [
       "array([0., 0., 0., 0., 0., 0., 0., 0., 0., 0., 0., 1., 0., 0.])"
      ]
     },
     "execution_count": 13,
     "metadata": {},
     "output_type": "execute_result"
    }
   ],
   "source": [
    "sent[1]"
   ]
  },
  {
   "cell_type": "code",
   "execution_count": 14,
   "id": "fc11260f",
   "metadata": {},
   "outputs": [
    {
     "data": {
      "text/plain": [
       "4"
      ]
     },
     "execution_count": 14,
     "metadata": {},
     "output_type": "execute_result"
    }
   ],
   "source": [
    "len(sent)"
   ]
  },
  {
   "cell_type": "code",
   "execution_count": 15,
   "id": "31f4e1e4",
   "metadata": {},
   "outputs": [
    {
     "data": {
      "text/plain": [
       "list"
      ]
     },
     "execution_count": 15,
     "metadata": {},
     "output_type": "execute_result"
    }
   ],
   "source": [
    "type(sent)"
   ]
  },
  {
   "cell_type": "code",
   "execution_count": null,
   "id": "866f7b79",
   "metadata": {},
   "outputs": [],
   "source": []
  }
 ],
 "metadata": {
  "kernelspec": {
   "display_name": "Python 3 (ipykernel)",
   "language": "python",
   "name": "python3"
  },
  "language_info": {
   "codemirror_mode": {
    "name": "ipython",
    "version": 3
   },
   "file_extension": ".py",
   "mimetype": "text/x-python",
   "name": "python",
   "nbconvert_exporter": "python",
   "pygments_lexer": "ipython3",
   "version": "3.11.5"
  }
 },
 "nbformat": 4,
 "nbformat_minor": 5
}
