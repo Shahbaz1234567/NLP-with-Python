{
 "cells": [
  {
   "cell_type": "code",
   "execution_count": 1,
   "id": "a8a3f101",
   "metadata": {},
   "outputs": [],
   "source": [
    "from transformers import pipeline"
   ]
  },
  {
   "cell_type": "code",
   "execution_count": 2,
   "id": "2331433c",
   "metadata": {},
   "outputs": [
    {
     "name": "stderr",
     "output_type": "stream",
     "text": [
      "No model was supplied, defaulted to sshleifer/distilbart-cnn-12-6 and revision a4f8f3e (https://huggingface.co/sshleifer/distilbart-cnn-12-6).\n",
      "Using a pipeline without specifying a model name and revision in production is not recommended.\n"
     ]
    },
    {
     "data": {
      "application/vnd.jupyter.widget-view+json": {
       "model_id": "381c40e7d51547e7987d6a9fde6124a5",
       "version_major": 2,
       "version_minor": 0
      },
      "text/plain": [
       "Downloading config.json:   0%|          | 0.00/1.80k [00:00<?, ?B/s]"
      ]
     },
     "metadata": {},
     "output_type": "display_data"
    },
    {
     "name": "stderr",
     "output_type": "stream",
     "text": [
      "C:\\ProgramData\\anaconda3\\Lib\\site-packages\\huggingface_hub\\file_download.py:133: UserWarning: `huggingface_hub` cache-system uses symlinks by default to efficiently store duplicated files but your machine does not support them in C:\\Users\\shabaz\\.cache\\huggingface\\hub. Caching files will still work but in a degraded version that might require more space on your disk. This warning can be disabled by setting the `HF_HUB_DISABLE_SYMLINKS_WARNING` environment variable. For more details, see https://huggingface.co/docs/huggingface_hub/how-to-cache#limitations.\n",
      "To support symlinks on Windows, you either need to activate Developer Mode or to run Python as an administrator. In order to see activate developer mode, see this article: https://docs.microsoft.com/en-us/windows/apps/get-started/enable-your-device-for-development\n",
      "  warnings.warn(message)\n"
     ]
    },
    {
     "data": {
      "application/vnd.jupyter.widget-view+json": {
       "model_id": "625720a383fc40608a0540dceb3b4199",
       "version_major": 2,
       "version_minor": 0
      },
      "text/plain": [
       "Downloading pytorch_model.bin:   0%|          | 0.00/1.22G [00:00<?, ?B/s]"
      ]
     },
     "metadata": {},
     "output_type": "display_data"
    },
    {
     "data": {
      "application/vnd.jupyter.widget-view+json": {
       "model_id": "ef6d1ef044f84dedbd72fe1660d9956c",
       "version_major": 2,
       "version_minor": 0
      },
      "text/plain": [
       "Downloading tokenizer_config.json:   0%|          | 0.00/26.0 [00:00<?, ?B/s]"
      ]
     },
     "metadata": {},
     "output_type": "display_data"
    },
    {
     "data": {
      "application/vnd.jupyter.widget-view+json": {
       "model_id": "7b3c71c77e09499d82059790163b6dc9",
       "version_major": 2,
       "version_minor": 0
      },
      "text/plain": [
       "Downloading vocab.json:   0%|          | 0.00/899k [00:00<?, ?B/s]"
      ]
     },
     "metadata": {},
     "output_type": "display_data"
    },
    {
     "data": {
      "application/vnd.jupyter.widget-view+json": {
       "model_id": "7930c9b6d5524088bbfc6bc73eb41c0c",
       "version_major": 2,
       "version_minor": 0
      },
      "text/plain": [
       "Downloading merges.txt:   0%|          | 0.00/456k [00:00<?, ?B/s]"
      ]
     },
     "metadata": {},
     "output_type": "display_data"
    }
   ],
   "source": [
    "summarizer=pipeline('summarization')"
   ]
  },
  {
   "cell_type": "code",
   "execution_count": 3,
   "id": "9c74a712",
   "metadata": {},
   "outputs": [
    {
     "data": {
      "text/plain": [
       "'In the southeast Bay of Bengal, squally weather with wind speeds reaching 40-50 k\\nmph gusting to 60 kmph is forecasted on November 30. This is expected to increase\\nto 50-60 kmph gusting to 70 kmph on December 1, with gale wind speeds reaching 60-\\n70 kmph gusting to 80 kmph on December 2.\\n\\nSqually wind speeds ranging from 40-5\\n0 kmph gusting to 60 kmph are expected over the southwest Bay of Bengal from the m\\norning of December 1, increasing to Gale Wind speeds of 60-70 kmph gusting to 80 k\\nmph on December 2 morning. In the central Bay of Bengal, squally wind speeds reach\\ning 40-50 kmph gusting to 60 kmph are likely on December 1, intensifying to 50-60\\nkmph gusting to 70 kmph on December 2.\\n\\n\\nFishermen have been advised not to ven\\nture into the South Andaman Sea on November 29 and 30 and avoid the southeast Bay\\nof Bengal from November 30 to December 2. The IMD also urged them to stay clear of\\nsouthwest Bay of Bengal on November 30 and December 2 and refrain from venturing i\\nnto central Bay of Bengal from December 1 morning onwards.\\n\\nThe Odisha governmen\\nt, meanwhile, put seven coastal districts of the state on alert amid the low-press\\nure area over the South Andaman Sea. In a letter to the collectors of Balasore, Bh\\nadrak, Kendrapara, Jagatsinghpur, Puri, Khurda and Ganjam districts, Special Relie\\nf Commissioner Satyabrata Sahoo said that a low-pressure area over the South Andam\\nan Sea is likely to intensify into a depression and later into a cyclonic storm'"
      ]
     },
     "execution_count": 3,
     "metadata": {},
     "output_type": "execute_result"
    }
   ],
   "source": [
    "text1=\"\"\"In the southeast Bay of Bengal, squally weather with wind speeds reaching 40-50 k\n",
    "mph gusting to 60 kmph is forecasted on November 30. This is expected to increase\n",
    "to 50-60 kmph gusting to 70 kmph on December 1, with gale wind speeds reaching 60-\n",
    "70 kmph gusting to 80 kmph on December 2.\\n\\nSqually wind speeds ranging from 40-5\n",
    "0 kmph gusting to 60 kmph are expected over the southwest Bay of Bengal from the m\n",
    "orning of December 1, increasing to Gale Wind speeds of 60-70 kmph gusting to 80 k\n",
    "mph on December 2 morning. In the central Bay of Bengal, squally wind speeds reach\n",
    "ing 40-50 kmph gusting to 60 kmph are likely on December 1, intensifying to 50-60\n",
    "kmph gusting to 70 kmph on December 2.\\n\\n\\nFishermen have been advised not to ven\n",
    "ture into the South Andaman Sea on November 29 and 30 and avoid the southeast Bay\n",
    "of Bengal from November 30 to December 2. The IMD also urged them to stay clear of\n",
    "southwest Bay of Bengal on November 30 and December 2 and refrain from venturing i\n",
    "nto central Bay of Bengal from December 1 morning onwards.\\n\\nThe Odisha governmen\n",
    "t, meanwhile, put seven coastal districts of the state on alert amid the low-press\n",
    "ure area over the South Andaman Sea. In a letter to the collectors of Balasore, Bh\n",
    "adrak, Kendrapara, Jagatsinghpur, Puri, Khurda and Ganjam districts, Special Relie\n",
    "f Commissioner Satyabrata Sahoo said that a low-pressure area over the South Andam\n",
    "an Sea is likely to intensify into a depression and later into a cyclonic storm\"\"\"\n",
    "text1"
   ]
  },
  {
   "cell_type": "code",
   "execution_count": 5,
   "id": "991215cc",
   "metadata": {},
   "outputs": [
    {
     "name": "stdout",
     "output_type": "stream",
     "text": [
      " In the southeast Bay of Bengal, squally weather with wind speeds reaching 40-50 k/mph gusting to 60 kmph is forecasted on November 30 . This is expected to increase to gale wind speeds of 60-70 kmph on December 2 . The Odisha governmen put seven coastal districts of the state on alert amid the low-pressure area over the South Andaman Sea .\n"
     ]
    }
   ],
   "source": [
    "summary=summarizer(text1,max_length=150,min_length=50,length_penalty=2.0,num_beams=3)\n",
    "print(summary[0]['summary_text'])"
   ]
  },
  {
   "cell_type": "code",
   "execution_count": null,
   "id": "08c401be",
   "metadata": {},
   "outputs": [],
   "source": []
  }
 ],
 "metadata": {
  "kernelspec": {
   "display_name": "Python 3 (ipykernel)",
   "language": "python",
   "name": "python3"
  },
  "language_info": {
   "codemirror_mode": {
    "name": "ipython",
    "version": 3
   },
   "file_extension": ".py",
   "mimetype": "text/x-python",
   "name": "python",
   "nbconvert_exporter": "python",
   "pygments_lexer": "ipython3",
   "version": "3.11.5"
  }
 },
 "nbformat": 4,
 "nbformat_minor": 5
}
